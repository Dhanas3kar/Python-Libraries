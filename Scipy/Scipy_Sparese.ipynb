{
 "cells": [
  {
   "cell_type": "code",
   "execution_count": 4,
   "id": "3afc6e61",
   "metadata": {},
   "outputs": [],
   "source": [
    "import numpy as np\n",
    "import scipy.sparse \n",
    "from scipy.sparse import csr_matrix,csc_matrix"
   ]
  },
  {
   "cell_type": "code",
   "execution_count": null,
   "id": "6d762b6e",
   "metadata": {},
   "outputs": [
    {
     "name": "stdout",
     "output_type": "stream",
     "text": [
      "Non-zeros: 4\n",
      "\n",
      "\n",
      "Sparse Matrix:\n",
      " <Compressed Sparse Column sparse matrix of dtype 'int64'\n",
      "\twith 4 stored elements and shape (3, 3)>\n",
      "  Coords\tValues\n",
      "  (1, 0)\t4\n",
      "  (2, 1)\t5\n",
      "  (0, 2)\t3\n",
      "  (2, 2)\t6\n",
      "\n",
      "Sparse Matrix Data: [4 5 3 6]\n",
      "\n",
      "Sum of non-zero elements: 18\n",
      "\n",
      "\n",
      "Compressed Sparse Row Matrix:\n",
      " <Compressed Sparse Row sparse matrix of dtype 'int64'\n",
      "\twith 4 stored elements and shape (3, 3)>\n",
      "  Coords\tValues\n",
      "  (0, 2)\t3\n",
      "  (1, 0)\t4\n",
      "  (2, 1)\t5\n",
      "  (2, 2)\t6\n"
     ]
    }
   ],
   "source": [
    "array= np.array([[0,0,3],[4,0,0],[0,5,6]])\n",
    "sparse_matrix= csc_matrix(array)\n",
    "print(\"Non-zeros:\", sparse_matrix.nnz)\n",
    "\n",
    "print(\"\\n\\nSparse Matrix:\\n\", sparse_matrix)\n",
    "print(\"\\nSparse Matrix Data:\", sparse_matrix.data)\n",
    "\n",
    "print(\"\\nSum of non-zero elements:\", sparse_matrix.data.sum())\n",
    "\n",
    "print(\"\\n\\nCompressed Sparse Row Matrix:\\n\", scipy.sparse.csr_matrix(array))"
   ]
  },
  {
   "cell_type": "code",
   "execution_count": 13,
   "id": "0c7593d9",
   "metadata": {},
   "outputs": [
    {
     "name": "stdout",
     "output_type": "stream",
     "text": [
      "<Compressed Sparse Column sparse matrix of dtype 'int64'\n",
      "\twith 4 stored elements and shape (3, 3)>\n",
      "  Coords\tValues\n",
      "  (1, 0)\t4\n",
      "  (2, 1)\t5\n",
      "  (0, 2)\t3\n",
      "  (2, 2)\t6\n"
     ]
    }
   ],
   "source": [
    "arr= np.array([[0,0,3],[4,0,0],[0,5,6]])\n",
    "\n",
    "new_arr= csr_matrix(arr).tocsc()\n",
    "print(new_arr)"
   ]
  },
  {
   "cell_type": "code",
   "execution_count": null,
   "id": "af442178",
   "metadata": {},
   "outputs": [],
   "source": []
  }
 ],
 "metadata": {
  "kernelspec": {
   "display_name": "venv",
   "language": "python",
   "name": "python3"
  },
  "language_info": {
   "codemirror_mode": {
    "name": "ipython",
    "version": 3
   },
   "file_extension": ".py",
   "mimetype": "text/x-python",
   "name": "python",
   "nbconvert_exporter": "python",
   "pygments_lexer": "ipython3",
   "version": "3.11.8"
  }
 },
 "nbformat": 4,
 "nbformat_minor": 5
}

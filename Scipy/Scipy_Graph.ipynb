{
 "cells": [
  {
   "cell_type": "code",
   "execution_count": 52,
   "id": "f3fe0b39",
   "metadata": {},
   "outputs": [],
   "source": [
    "import numpy as np\n",
    "from scipy.sparse import csr_matrix, csc_matrix\n",
    "from scipy.sparse.csgraph import connected_components, dijkstra, floyd_warshall, bellman_ford, depth_first_order, breadth_first_order"
   ]
  },
  {
   "cell_type": "code",
   "execution_count": 53,
   "id": "8cc9723a",
   "metadata": {},
   "outputs": [
    {
     "name": "stdout",
     "output_type": "stream",
     "text": [
      "Compressed Sparse Row Matrix:\n",
      " <Compressed Sparse Row sparse matrix of dtype 'int64'\n",
      "\twith 4 stored elements and shape (3, 3)>\n",
      "  Coords\tValues\n",
      "  (0, 2)\t-3\n",
      "  (1, 0)\t4\n",
      "  (2, 1)\t5\n",
      "  (2, 2)\t6\n",
      "\n",
      " (1, array([0, 0, 0], dtype=int32))\n"
     ]
    }
   ],
   "source": [
    "arr= np.array(\n",
    "    [[0, 0, -3],\n",
    "     [4, 0, 0],\n",
    "     [0, 5, 6]]\n",
    ")\n",
    "\n",
    "new_array= csr_matrix(arr)\n",
    "\n",
    "print(\"Compressed Sparse Row Matrix:\\n\", new_array)\n",
    "\n",
    "print(\"\\n\",connected_components(new_array))"
   ]
  },
  {
   "cell_type": "code",
   "execution_count": 54,
   "id": "c3dd0652",
   "metadata": {},
   "outputs": [
    {
     "name": "stdout",
     "output_type": "stream",
     "text": [
      "(array([ 0.,  2., -3.]), array([-9999,     2,     0], dtype=int32))\n"
     ]
    },
    {
     "name": "stderr",
     "output_type": "stream",
     "text": [
      "C:\\Users\\Dhanasekar Murugesan\\AppData\\Local\\Temp\\ipykernel_5156\\464220825.py:1: UserWarning: Graph has negative weights: dijkstra will give inaccurate results if the graph contains negative cycles. Consider johnson or bellman_ford.\n",
      "  print(dijkstra(new_array, return_predecessors=True, indices=0))\n"
     ]
    }
   ],
   "source": [
    "print(dijkstra(new_array, return_predecessors=True, indices=0))"
   ]
  },
  {
   "cell_type": "code",
   "execution_count": 55,
   "id": "00d2ff86",
   "metadata": {},
   "outputs": [
    {
     "name": "stdout",
     "output_type": "stream",
     "text": [
      "(array([[ 0.,  2., -3.],\n",
      "       [ 4.,  0.,  1.],\n",
      "       [ 9.,  5.,  0.]]), array([[-9999,     2,     0],\n",
      "       [    1, -9999,     0],\n",
      "       [    1,     2, -9999]], dtype=int32))\n"
     ]
    }
   ],
   "source": [
    "print(floyd_warshall(new_array, return_predecessors=True))"
   ]
  },
  {
   "cell_type": "code",
   "execution_count": 56,
   "id": "9927565c",
   "metadata": {},
   "outputs": [
    {
     "name": "stdout",
     "output_type": "stream",
     "text": [
      "(array([ 0.,  2., -3.]), array([-9999,     2,     0], dtype=int32))\n"
     ]
    }
   ],
   "source": [
    "print(bellman_ford(new_array, return_predecessors=True, indices=0))"
   ]
  },
  {
   "cell_type": "code",
   "execution_count": 62,
   "id": "1593053f",
   "metadata": {},
   "outputs": [
    {
     "name": "stdout",
     "output_type": "stream",
     "text": [
      "(array([0, 2, 1], dtype=int32), array([-9999,     2,     0], dtype=int32))\n"
     ]
    }
   ],
   "source": [
    "\n",
    "\n",
    "print(depth_first_order(new_array, 0, return_predecessors=True))"
   ]
  },
  {
   "cell_type": "code",
   "execution_count": 61,
   "id": "42c9a32c",
   "metadata": {},
   "outputs": [
    {
     "name": "stdout",
     "output_type": "stream",
     "text": [
      "(array([0, 2, 1], dtype=int32), array([-9999,     2,     0], dtype=int32))\n"
     ]
    }
   ],
   "source": [
    "print(breadth_first_order(new_array, 0, return_predecessors=True))"
   ]
  }
 ],
 "metadata": {
  "kernelspec": {
   "display_name": "venv",
   "language": "python",
   "name": "python3"
  },
  "language_info": {
   "codemirror_mode": {
    "name": "ipython",
    "version": 3
   },
   "file_extension": ".py",
   "mimetype": "text/x-python",
   "name": "python",
   "nbconvert_exporter": "python",
   "pygments_lexer": "ipython3",
   "version": "3.11.8"
  }
 },
 "nbformat": 4,
 "nbformat_minor": 5
}

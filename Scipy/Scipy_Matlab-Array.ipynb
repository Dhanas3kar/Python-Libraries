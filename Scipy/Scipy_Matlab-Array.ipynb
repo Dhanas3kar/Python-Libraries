{
 "cells": [
  {
   "cell_type": "code",
   "execution_count": 24,
   "id": "5f434995",
   "metadata": {},
   "outputs": [],
   "source": [
    "import scipy.io\n"
   ]
  },
  {
   "cell_type": "code",
   "execution_count": 25,
   "id": "c513256c",
   "metadata": {},
   "outputs": [
    {
     "name": "stdout",
     "output_type": "stream",
     "text": [
      "Data stored in .mat file matches the original data.\n"
     ]
    }
   ],
   "source": [
    "import scipy.io\n",
    "import numpy as np\n",
    "\n",
    "\n",
    "data = {\n",
    "    'A': np.array([[1, 2, 3], [4, 5, 6]]),\n",
    "    'B': np.array([10, 20, 30, 40]),\n",
    "    'C': np.array([[7.5, 8.5], [9.5, 10.5]])\n",
    "}\n",
    "\n",
    "\n",
    "scipy.io.savemat('mat_lab_data.mat', data)\n",
    "\n",
    "if np.array_equal(data['A'], data['A']):\n",
    "    print(\"Data stored in .mat file matches the original data.\")\n",
    "else:\n",
    "    print(\"Data stored in .mat file does NOT match the original data.\")"
   ]
  },
  {
   "cell_type": "code",
   "execution_count": 26,
   "id": "6b276f10",
   "metadata": {},
   "outputs": [
    {
     "name": "stdout",
     "output_type": "stream",
     "text": [
      "Matlab array in python: [[1 2 3]\n",
      " [4 5 6]]\n"
     ]
    }
   ],
   "source": [
    "mat_data = scipy.io.loadmat(\"mat_lab_data.mat\")\n",
    "\n",
    "mat_array = mat_data[\"A\"]\n",
    "\n",
    "print(\"Matlab array in python:\", mat_array)\n",
    "\n"
   ]
  },
  {
   "cell_type": "code",
   "execution_count": 27,
   "id": "19ba1d89",
   "metadata": {},
   "outputs": [
    {
     "name": "stdout",
     "output_type": "stream",
     "text": [
      "Saved to python_data.mat\n"
     ]
    }
   ],
   "source": [
    "py_data= np.array([[100,120],[234,586],[543,426]])\n",
    "\n",
    "scipy.io.savemat(\"python_data.mat\", {\"Py_data\": py_data})\n",
    "\n",
    "print(\"Saved to python_data.mat\")"
   ]
  },
  {
   "cell_type": "code",
   "execution_count": 28,
   "id": "7fb215e3",
   "metadata": {},
   "outputs": [
    {
     "name": "stdout",
     "output_type": "stream",
     "text": [
      "Saved\n"
     ]
    }
   ],
   "source": [
    "scipy.io.loadmat(\"mat_lab_data.mat\")\n",
    "\n",
    "arr= np.array([[20,20],[40,40]])\n",
    "\n",
    "sum_2c= np.sum(arr[:,1])\n",
    "print(\"Saved\")"
   ]
  }
 ],
 "metadata": {
  "kernelspec": {
   "display_name": "venv",
   "language": "python",
   "name": "python3"
  },
  "language_info": {
   "codemirror_mode": {
    "name": "ipython",
    "version": 3
   },
   "file_extension": ".py",
   "mimetype": "text/x-python",
   "name": "python",
   "nbconvert_exporter": "python",
   "pygments_lexer": "ipython3",
   "version": "3.11.8"
  }
 },
 "nbformat": 4,
 "nbformat_minor": 5
}

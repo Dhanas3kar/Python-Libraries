{
 "cells": [
  {
   "cell_type": "code",
   "execution_count": 49,
   "id": "bbfb411c",
   "metadata": {},
   "outputs": [],
   "source": [
    "import numpy as np\n",
    "from scipy import constants, special"
   ]
  },
  {
   "cell_type": "code",
   "execution_count": 50,
   "id": "c78c0c34",
   "metadata": {},
   "outputs": [
    {
     "name": "stdout",
     "output_type": "stream",
     "text": [
      "Addition: [5 7 9]\n",
      "Addition: [5 7 9]\n"
     ]
    }
   ],
   "source": [
    "Addition= np.array([1,2,3]) + np.array([4,5,6])\n",
    "print(\"Addition:\", Addition)\n",
    "\n",
    "#or\n",
    "\n",
    "Addition= np.add([1,2,3],[4,5,6])\n",
    "print(\"Addition:\", Addition)"
   ]
  },
  {
   "cell_type": "code",
   "execution_count": 51,
   "id": "02a39833",
   "metadata": {},
   "outputs": [
    {
     "name": "stdout",
     "output_type": "stream",
     "text": [
      " Division: [0.25 0.4  0.5 ]\n"
     ]
    }
   ],
   "source": [
    "div= np.divide([1,2,3],[4,5,6])\n",
    "print(\" Division:\", div)"
   ]
  },
  {
   "cell_type": "code",
   "execution_count": 52,
   "id": "7e4b2105",
   "metadata": {},
   "outputs": [
    {
     "name": "stdout",
     "output_type": "stream",
     "text": [
      " Exponential: [  54.59815003  403.42879349 8103.08392758]\n"
     ]
    }
   ],
   "source": [
    "Exp= np.exp([4,6,9])\n",
    "print(\" Exponential:\", Exp)"
   ]
  },
  {
   "cell_type": "code",
   "execution_count": 53,
   "id": "b6efcb1f",
   "metadata": {},
   "outputs": [
    {
     "name": "stdout",
     "output_type": "stream",
     "text": [
      "Bessel function: 0.1149034849319005\n"
     ]
    }
   ],
   "source": [
    "bessel = special.jv(2, 1)\n",
    "print(\"Bessel function:\", bessel)"
   ]
  },
  {
   "cell_type": "markdown",
   "id": "c28bcbf2",
   "metadata": {},
   "source": [
    "SCIENTIFIC TERMS USING CONSTANTS"
   ]
  },
  {
   "cell_type": "code",
   "execution_count": 54,
   "id": "248a8791",
   "metadata": {},
   "outputs": [
    {
     "name": "stdout",
     "output_type": "stream",
     "text": [
      "\n",
      "SCIENTIFIC TERMS USING CONSTANTS\n",
      "\n",
      "Speed of light in m/s: 299792458.0\n",
      "\n",
      "Gravitational constant in (m^3 kg^-1 s^-2): 6.6743e-11\n",
      "\n",
      "Planck constant in J s: 6.62607015e-34\n",
      "\n",
      "Boltzmann constant in J K^-1: 1.380649e-23\n",
      "\n",
      "Value of pi: 3.141592653589793\n",
      "\n",
      "Value of e: 1.602176634e-19\n",
      "\n",
      "Euler's number: <function euler at 0x000001ED73CDFC40>\n",
      "\n",
      "Golden ratio: 1.618033988749895\n",
      "\n",
      "Mile in meters: 1609.3439999999998\n",
      "\n",
      "Inch in meters: 0.0254\n",
      "\n",
      "Pound in kg: 0.45359236999999997\n",
      "\n",
      "Knot in m/s : 0.5144444444444445\n",
      "\n",
      "Kilo in meters: 1000.0\n"
     ]
    }
   ],
   "source": [
    "print(\"\\nSCIENTIFIC TERMS USING CONSTANTS\")\n",
    "constants.c # speed of light in m/s\n",
    "print(\"\\nSpeed of light in m/s:\", constants.c)\n",
    "\n",
    "\n",
    "gravitational_constant = constants.G # gravitational constant in m^3 kg^-1 s^-2\n",
    "print(\"\\nGravitational constant in (m^3 kg^-1 s^-2):\", gravitational_constant)\n",
    "\n",
    "planck_constant = constants.h # Planck constant in J s\n",
    "print(\"\\nPlanck constant in J s:\", planck_constant)\n",
    "\n",
    "boltzmann_constant = constants.k # Boltzmann constant in J K^-1\n",
    "print(\"\\nBoltzmann constant in J K^-1:\", boltzmann_constant)\n",
    "\n",
    "pi = constants.pi # Value of pi\n",
    "print(\"\\nValue of pi:\", pi)\n",
    "\n",
    "e = constants.e # Value of e\n",
    "print(\"\\nValue of e:\", e)\n",
    "\n",
    "Eulers_number = special.euler # Euler's number\n",
    "print(\"\\nEuler's number:\", Eulers_number)\n",
    "\n",
    "golden_ratio = constants.golden # Golden ratio\n",
    "print(\"\\nGolden ratio:\", golden_ratio)\n",
    "\n",
    "mile2meter = constants.mile # Mile in meters\n",
    "print(\"\\nMile in meters:\", mile2meter)\n",
    "\n",
    "inch2meter = constants.inch # Inch in meters\n",
    "print(\"\\nInch in meters:\", inch2meter)\n",
    "\n",
    "pound2kg = constants.pound # Pound in kg\n",
    "print(\"\\nPound in kg:\", pound2kg)\n",
    "\n",
    "knot2mps = constants.knot # Knot in m/s \n",
    "print(\"\\nKnot in m/s :\", knot2mps)\n",
    "\n",
    "km2meter = constants.kilo # Kilo in meters\n",
    "print(\"\\nKilo in meters:\", km2meter)\n",
    "\n"
   ]
  }
 ],
 "metadata": {
  "kernelspec": {
   "display_name": "venv",
   "language": "python",
   "name": "python3"
  },
  "language_info": {
   "codemirror_mode": {
    "name": "ipython",
    "version": 3
   },
   "file_extension": ".py",
   "mimetype": "text/x-python",
   "name": "python",
   "nbconvert_exporter": "python",
   "pygments_lexer": "ipython3",
   "version": "3.11.8"
  }
 },
 "nbformat": 4,
 "nbformat_minor": 5
}

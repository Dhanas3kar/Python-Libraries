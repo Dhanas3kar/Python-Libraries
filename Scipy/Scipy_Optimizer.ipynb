{
 "cells": [
  {
   "cell_type": "code",
   "execution_count": null,
   "id": "c7717320",
   "metadata": {},
   "outputs": [],
   "source": [
    "from scipy.optimize import minimize_scalar\n",
    "from scipy.optimize import differential_evolution\n"
   ]
  },
  {
   "cell_type": "code",
   "execution_count": 9,
   "id": "ccd55376",
   "metadata": {},
   "outputs": [
    {
     "name": "stdout",
     "output_type": "stream",
     "text": [
      "Optimization Result:  message: \n",
      "          Optimization terminated successfully;\n",
      "          The returned value satisfies the termination criteria\n",
      "          (using xtol = 1.48e-08 )\n",
      " success: True\n",
      "     fun: -inf\n",
      "       x: -1.0737622077212198e+103\n",
      "     nit: 35\n",
      "    nfev: 528\n",
      "The minimum value is at x = -1.0737622077212198e+103\n"
     ]
    },
    {
     "name": "stderr",
     "output_type": "stream",
     "text": [
      "d:\\Documents\\python_practice\\Python Libraries\\venv\\Lib\\site-packages\\scipy\\optimize\\_optimize.py:3049: RuntimeWarning: overflow encountered in scalar multiply\n",
      "  w = xb - ((xb - xc) * tmp2 - (xb - xa) * tmp1) / denom\n",
      "d:\\Documents\\python_practice\\Python Libraries\\venv\\Lib\\site-packages\\scipy\\optimize\\_optimize.py:3042: RuntimeWarning: overflow encountered in scalar multiply\n",
      "  tmp1 = (xb - xa) * (fb - fc)\n",
      "d:\\Documents\\python_practice\\Python Libraries\\venv\\Lib\\site-packages\\scipy\\optimize\\_optimize.py:3049: RuntimeWarning: invalid value encountered in scalar divide\n",
      "  w = xb - ((xb - xc) * tmp2 - (xb - xa) * tmp1) / denom\n",
      "d:\\Documents\\python_practice\\Python Libraries\\venv\\Lib\\site-packages\\scipy\\optimize\\_optimize.py:3043: RuntimeWarning: overflow encountered in scalar multiply\n",
      "  tmp2 = (xb - xc) * (fb - fa)\n",
      "d:\\Documents\\python_practice\\Python Libraries\\venv\\Lib\\site-packages\\scipy\\optimize\\_optimize.py:3044: RuntimeWarning: invalid value encountered in scalar subtract\n",
      "  val = tmp2 - tmp1\n",
      "C:\\Users\\Dhanasekar Murugesan\\AppData\\Local\\Temp\\ipykernel_4192\\2660215262.py:2: RuntimeWarning: overflow encountered in scalar power\n",
      "  return (x - 3) ** 3\n",
      "d:\\Documents\\python_practice\\Python Libraries\\venv\\Lib\\site-packages\\scipy\\optimize\\_optimize.py:2539: RuntimeWarning: invalid value encountered in scalar subtract\n",
      "  tmp1 = (x - w) * (fx - fv)\n",
      "d:\\Documents\\python_practice\\Python Libraries\\venv\\Lib\\site-packages\\scipy\\optimize\\_optimize.py:2540: RuntimeWarning: invalid value encountered in scalar subtract\n",
      "  tmp2 = (x - v) * (fx - fw)\n"
     ]
    }
   ],
   "source": [
    "\n",
    "\n",
    "def quadratic_function(x):\n",
    "    return (x - 3) ** 3\n",
    "result = minimize_scalar(quadratic_function)\n",
    "print(\"Optimization Result:\", result)\n",
    "print(\"The minimum value is at x =\", result.x)\n"
   ]
  },
  {
   "cell_type": "code",
   "execution_count": 11,
   "id": "c6f4b6c3",
   "metadata": {},
   "outputs": [
    {
     "name": "stdout",
     "output_type": "stream",
     "text": [
      "Global Optimization Result:              message: Optimization terminated successfully.\n",
      "             success: True\n",
      "                 fun: 0.0\n",
      "                   x: [ 0.000e+00  0.000e+00  0.000e+00]\n",
      "                 nit: 146\n",
      "                nfev: 6619\n",
      "          population: [[ 0.000e+00  0.000e+00  0.000e+00]\n",
      "                       [ 0.000e+00  0.000e+00  0.000e+00]\n",
      "                       ...\n",
      "                       [ 0.000e+00  0.000e+00  0.000e+00]\n",
      "                       [ 0.000e+00  0.000e+00  0.000e+00]]\n",
      " population_energies: [ 0.000e+00  0.000e+00 ...  0.000e+00  0.000e+00]\n",
      "The minimum value is at x = [0. 0. 0.]\n"
     ]
    }
   ],
   "source": [
    "\n",
    "\n",
    "def global_objective(x):\n",
    "    return x[0]**2 + x[1]**2 + x[2]**2\n",
    "result = differential_evolution(global_objective, bounds=[(-2, 2), (-4, 4), (-6, 6)])\n",
    "print(\"Global Optimization Result:\", result)\n",
    "print(\"The minimum value is at x =\", result.x)"
   ]
  },
  {
   "cell_type": "code",
   "execution_count": null,
   "id": "f7c8cac8",
   "metadata": {},
   "outputs": [],
   "source": []
  }
 ],
 "metadata": {
  "kernelspec": {
   "display_name": "venv",
   "language": "python",
   "name": "python3"
  },
  "language_info": {
   "codemirror_mode": {
    "name": "ipython",
    "version": 3
   },
   "file_extension": ".py",
   "mimetype": "text/x-python",
   "name": "python",
   "nbconvert_exporter": "python",
   "pygments_lexer": "ipython3",
   "version": "3.11.8"
  }
 },
 "nbformat": 4,
 "nbformat_minor": 5
}

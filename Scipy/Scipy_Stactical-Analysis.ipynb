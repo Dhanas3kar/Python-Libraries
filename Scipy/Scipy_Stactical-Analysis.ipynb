{
 "cells": [
  {
   "cell_type": "code",
   "execution_count": 43,
   "id": "dc4f5af6",
   "metadata": {},
   "outputs": [],
   "source": [
    "import numpy as np\n",
    "from scipy.stats import ttest_ind, kstest, describe"
   ]
  },
  {
   "cell_type": "code",
   "execution_count": 44,
   "id": "671f5bca",
   "metadata": {},
   "outputs": [
    {
     "name": "stdout",
     "output_type": "stream",
     "text": [
      "Statical Analysis of V1&V2 are: <function ttest_ind at 0x000002635AC4B560>\n"
     ]
    }
   ],
   "source": [
    "version1= np.random.normal(size=10)\n",
    "version2= np.random.binomial(n=0.5, p=1, size=100)\n",
    "\n",
    "ttest_ind(version1,version2)\n",
    "print(\"Statical Analysis of V1&V2 are:\",ttest_ind)"
   ]
  },
  {
   "cell_type": "code",
   "execution_count": 45,
   "id": "55dd7730",
   "metadata": {},
   "outputs": [
    {
     "name": "stdout",
     "output_type": "stream",
     "text": [
      "KStest of version1 is: KstestResult(statistic=np.float64(0.5), pvalue=np.float64(0.007777410000000002), statistic_location=np.int32(0), statistic_sign=np.int8(-1))\n"
     ]
    }
   ],
   "source": [
    "v = np.random.binomial(n=0.5, p=1, size=10)\n",
    "\n",
    "result = kstest(v, 'norm')\n",
    "\n",
    "print(\"KStest of version1 is:\", result)"
   ]
  },
  {
   "cell_type": "code",
   "execution_count": 47,
   "id": "4afae8ff",
   "metadata": {},
   "outputs": [
    {
     "name": "stdout",
     "output_type": "stream",
     "text": [
      "Description of version1 is: DescribeResult(nobs=np.int64(10), minmax=(np.int32(0), np.int32(0)), mean=np.float64(0.0), variance=np.float64(0.0), skewness=np.float64(nan), kurtosis=np.float64(nan))\n"
     ]
    }
   ],
   "source": [
    "v = np.random.binomial(n=0.5, p=1, size=10)\n",
    "\n",
    "result = describe(v)\n",
    "\n",
    "print(\"Description of version1 is:\", result)"
   ]
  }
 ],
 "metadata": {
  "kernelspec": {
   "display_name": "venv",
   "language": "python",
   "name": "python3"
  },
  "language_info": {
   "codemirror_mode": {
    "name": "ipython",
    "version": 3
   },
   "file_extension": ".py",
   "mimetype": "text/x-python",
   "name": "python",
   "nbconvert_exporter": "python",
   "pygments_lexer": "ipython3",
   "version": "3.11.8"
  }
 },
 "nbformat": 4,
 "nbformat_minor": 5
}

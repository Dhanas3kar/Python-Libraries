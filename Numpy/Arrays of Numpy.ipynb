{
 "cells": [
  {
   "cell_type": "code",
   "execution_count": 13,
   "id": "cf37054a",
   "metadata": {},
   "outputs": [
    {
     "name": "stdout",
     "output_type": "stream",
     "text": [
      "Array of Zeros:\n",
      " [[0. 0. 0. 0.]\n",
      " [0. 0. 0. 0.]\n",
      " [0. 0. 0. 0.]]\n",
      "\n",
      "Array of Ones:\n",
      " [[[1 1 1 1]\n",
      "  [1 1 1 1]\n",
      "  [1 1 1 1]]\n",
      "\n",
      " [[1 1 1 1]\n",
      "  [1 1 1 1]\n",
      "  [1 1 1 1]]]\n",
      "\n",
      "Empty Array:\n",
      " [[1.39069238e-309 1.39069238e-309 1.39069238e-309]\n",
      " [1.39069238e-309 1.39069238e-309 1.39069238e-309]]\n",
      "\n",
      "Array of Random Numbers:\n",
      " [[0.42663271 0.2996966 ]\n",
      " [0.26404866 0.41124017]]\n",
      "\n",
      "Array of Sequential Numbers:\n",
      " [10 15 20]\n"
     ]
    }
   ],
   "source": [
    "import numpy as np \n",
    "\n",
    "ZERO=np.zeros((3,4))\n",
    "print(\"Array of Zeros:\\n\", ZERO)\n",
    "\n",
    "ONE=np.ones((2,3,4),dtype=np.int16) \n",
    "print(\"\\nArray of Ones:\\n\", ONE)\n",
    "\n",
    "#Empty Array\n",
    "EMPTY=np.empty((2,3))\n",
    "print(\"\\nEmpty Array:\\n\", EMPTY)\n",
    "\n",
    "#Array of Random Numbers\n",
    "RANDOM=np.random.random((2,2))\n",
    "print(\"\\nArray of Random Numbers:\\n\", RANDOM)\n",
    "\n",
    "#Array of Sequential Numbers\n",
    "SEQUENCE=np.arange(10,25,5)\n",
    "print(\"\\nArray of Sequential Numbers:\\n\", SEQUENCE)\n"
   ]
  },
  {
   "cell_type": "code",
   "execution_count": 8,
   "id": "56cc8025",
   "metadata": {},
   "outputs": [
    {
     "name": "stdout",
     "output_type": "stream",
     "text": [
      "\n",
      "Array of Evenly Spaced Numbers:\n",
      " [0.   0.25 0.5  0.75 1.   1.25 1.5  1.75 2.  ]\n",
      "\n",
      "Identity Matrix:\n",
      " [[1. 0. 0.]\n",
      " [0. 1. 0.]\n",
      " [0. 0. 1.]]\n",
      "\n",
      "Array with Custom Values:\n",
      " [[[ 1  2  3]\n",
      "  [ 4  5  6]]\n",
      "\n",
      " [[ 7  8  9]\n",
      "  [10 11 12]]]\n",
      "\n",
      "Original Array Data Type: int64\n",
      "Converted Array Data Type: float64\n",
      "Converted Array: [1. 2. 3. 4. 5.]\n",
      "\n",
      "Array with Complex Numbers:\n",
      " [1.+0.j 2.+0.j 3.+0.j 4.+0.j]\n",
      "\n",
      "Structured Array:\n",
      " [(1, 'Alice', 25) (2, 'Bob', 30) (3, 'Charlie', 35)]\n",
      "Accessing Structured Array Elements:\n",
      "Names: ['Alice' 'Bob' 'Charlie']\n",
      "Ages: [25 30 35]\n"
     ]
    }
   ],
   "source": [
    "#Array of Evenly Spaced Numbers\n",
    "EVENLY_SPACED=np.linspace(0,2,9)\n",
    "print(\"\\nArray of Evenly Spaced Numbers:\\n\", EVENLY_SPACED)\n",
    "\n",
    "#Identity Matrix\n",
    "IDENTITY=np.eye(3)\n",
    "print(\"\\nIdentity Matrix:\\n\", IDENTITY)\n",
    "\n",
    "#Array with Custom Values\n",
    "CUSTOM=np.array([[[1,2,3],[4,5,6]],[[7,8,9],[10,11,12]]])\n",
    "print(\"\\nArray with Custom Values:\\n\", CUSTOM)\n",
    "\n",
    "#Data Type Conversion\n",
    "arr=np.array([1,2,3,4,5])\n",
    "print(\"\\nOriginal Array Data Type:\", arr.dtype)\n",
    "\n",
    "arr_float=arr.astype(np.float64)\n",
    "print(\"Converted Array Data Type:\", arr_float.dtype)\n",
    "print(\"Converted Array:\", arr_float)\n",
    "\n",
    "#Array with Complex Numbers\n",
    "complex_arr=np.array([1,2,3,4],dtype=complex)\n",
    "print(\"\\nArray with Complex Numbers:\\n\", complex_arr)\n",
    "\n",
    "#Structured Array\n",
    "structured_arr=np.array([(1,'Alice',25),(2,'Bob',30),(3,'Charlie',35)],\n",
    "                        dtype=[('ID', 'i4'), ('Name', 'U10'), ('Age', 'i4')])\n",
    "print(\"\\nStructured Array:\\n\", structured_arr)\n",
    "print(\"Accessing Structured Array Elements:\")\n",
    "print(\"Names:\", structured_arr['Name'])\n",
    "print(\"Ages:\", structured_arr['Age'])\n"
   ]
  },
  {
   "cell_type": "code",
   "execution_count": 17,
   "id": "f5e906d9",
   "metadata": {},
   "outputs": [
    {
     "name": "stdout",
     "output_type": "stream",
     "text": [
      "\n",
      "Type Casted Array:\n",
      " [1 2 3]\n",
      "Data Type of Casted Array: int32\n"
     ]
    }
   ],
   "source": [
    "#Type Casting during Array Creation\n",
    "casted_arr=np.array([1.5,2.3,3.7],dtype=np.int32)\n",
    "print(\"\\nType Casted Array:\\n\", casted_arr)\n",
    "print(\"Data Type of Casted Array:\", casted_arr.dtype)\n",
    "\n"
   ]
  },
  {
   "cell_type": "code",
   "execution_count": null,
   "id": "e3387c2d",
   "metadata": {},
   "outputs": [
    {
     "name": "stdout",
     "output_type": "stream",
     "text": [
      "[[[1]\n",
      "  [2]\n",
      "  [3]]\n",
      "\n",
      " [[4]\n",
      "  [5]\n",
      "  [6]]\n",
      "\n",
      " [[7]\n",
      "  [8]\n",
      "  [9]]]\n",
      "Shape of 1D array: (6,)\n",
      "Shape of 2D array: (2, 3)\n",
      "Shape of 3D array: (3, 2, 1)\n",
      "Boolean Indexing: [4 5 6 7 8 9]\n"
     ]
    }
   ],
   "source": [
    "#Shape Manipulation\n",
    "arr = np.array([[1, 2, 3], [4, 5, 6], [7, 8, 9]])\n",
    "arr.shape = (3, 3, 1)\n",
    "print(arr)\n",
    "\n",
    "#Understanding Dimensions\n",
    "arr_1d = np.array([1, 2, 3, 4, 5, 6])\n",
    "arr_2d = np.array([[1, 2, 3], [4, 5, 6]])\n",
    "arr_3d = np.array([[[1], [2]], [[3], [4]], [[5], [6]]])\n",
    "print(\"Shape of 1D array:\", arr_1d.shape)\n",
    "print(\"Shape of 2D array:\", arr_2d.shape)\n",
    "print(\"Shape of 3D array:\", arr_3d.shape)\n",
    "\n",
    "\n",
    "#Boolean Indexing\n",
    "arr2=np.array([1,2,3,4,5,6,7,8,9])\n",
    "mask=arr2>3\n",
    "print(\"Boolean Indexing:\", arr2[mask])"
   ]
  },
  {
   "cell_type": "code",
   "execution_count": 20,
   "id": "f611bda7",
   "metadata": {},
   "outputs": [
    {
     "name": "stdout",
     "output_type": "stream",
     "text": [
      "Original Array: [[[100]\n",
      "  [100]\n",
      "  [100]]\n",
      "\n",
      " [[  4]\n",
      "  [  5]\n",
      "  [  6]]\n",
      "\n",
      " [[  7]\n",
      "  [  8]\n",
      "  [  9]]]\n",
      "Copied Array: [[[100]\n",
      "  [100]\n",
      "  [100]]\n",
      "\n",
      " [[  4]\n",
      "  [  5]\n",
      "  [  6]]\n",
      "\n",
      " [[  7]\n",
      "  [  8]\n",
      "  [  9]]]\n"
     ]
    }
   ],
   "source": [
    "#Copy --- IGNORE ---\n",
    "copied_array= arr.copy()\n",
    "copied_array[0]=100\n",
    "print(\"Original Array:\", arr)\n",
    "print(\"Copied Array:\", copied_array)\n",
    "#Copy --- IGNORE ---\n",
    "\n"
   ]
  },
  {
   "cell_type": "code",
   "execution_count": 19,
   "id": "ac05a40b",
   "metadata": {},
   "outputs": [
    {
     "name": "stdout",
     "output_type": "stream",
     "text": [
      "Original Array after modifying view: [[[100]\n",
      "  [100]\n",
      "  [100]]\n",
      "\n",
      " [[  4]\n",
      "  [  5]\n",
      "  [  6]]\n",
      "\n",
      " [[  7]\n",
      "  [  8]\n",
      "  [  9]]]\n",
      "Viewed Array: [[[100]\n",
      "  [100]\n",
      "  [100]]\n",
      "\n",
      " [[  4]\n",
      "  [  5]\n",
      "  [  6]]\n",
      "\n",
      " [[  7]\n",
      "  [  8]\n",
      "  [  9]]]\n"
     ]
    }
   ],
   "source": [
    "#View --- IGNORE ---\n",
    "viewed_array= arr.view()\n",
    "viewed_array[0]=100\n",
    "print(\"Original Array after modifying view:\", arr)\n",
    "print(\"Viewed Array:\", viewed_array)"
   ]
  }
 ],
 "metadata": {
  "kernelspec": {
   "display_name": "venv",
   "language": "python",
   "name": "python3"
  },
  "language_info": {
   "codemirror_mode": {
    "name": "ipython",
    "version": 3
   },
   "file_extension": ".py",
   "mimetype": "text/x-python",
   "name": "python",
   "nbconvert_exporter": "python",
   "pygments_lexer": "ipython3",
   "version": "3.11.8"
  }
 },
 "nbformat": 4,
 "nbformat_minor": 5
}

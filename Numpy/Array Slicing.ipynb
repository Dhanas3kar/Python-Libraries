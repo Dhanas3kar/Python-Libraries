{
 "cells": [
  {
   "cell_type": "code",
   "execution_count": null,
   "id": "8d595aa8",
   "metadata": {},
   "outputs": [],
   "source": [
    "import numpy as np\n",
    "\n",
    "arr=np.array([1,2,3,4,5,6,7,8,9])"
   ]
  },
  {
   "cell_type": "code",
   "execution_count": null,
   "id": "a8d96ee5",
   "metadata": {},
   "outputs": [],
   "source": [
    "slice=arr[2:5]\n",
    "print(\"1D Sliced array:\", slice)"
   ]
  },
  {
   "cell_type": "code",
   "execution_count": null,
   "id": "88f98b50",
   "metadata": {},
   "outputs": [],
   "source": [
    "arr2=np.array([[1,2,3,4,5],[6,7,8,9,10],[11,12,13,14,15]])\n",
    "slice2=arr2[0:2, 1:3]\n",
    "print(\"2D Sliced array:\", slice2)"
   ]
  },
  {
   "cell_type": "code",
   "execution_count": null,
   "id": "c3a87d86",
   "metadata": {},
   "outputs": [],
   "source": [
    "arr3=np.array([[[1,2],[3,4]],[[5,6],[7,8]],[[9,10],[11,12]]])\n",
    "slice3=arr3[1:3, 0:2, 1]    \n",
    "print(\"3D Sliced array:\", slice3)"
   ]
  },
  {
   "cell_type": "code",
   "execution_count": null,
   "id": "e810b0da",
   "metadata": {},
   "outputs": [],
   "source": [
    "arr4=np.array([1,2,3,4,5,6,7,8,9])\n",
    "step_slice=arr4[1:8:2]\n",
    "print(\"1D Step Sliced array:\", step_slice)"
   ]
  },
  {
   "cell_type": "code",
   "execution_count": null,
   "id": "4eacd279",
   "metadata": {},
   "outputs": [],
   "source": [
    "arr5=np.array([[1,2,3,4,5],[6,7,8,9,10],[11,12,13,14,15]])\n",
    "step_slice2=arr5[0:3:1, 0:5:2]\n",
    "print(\"2D Step Sliced array:\", step_slice2) "
   ]
  },
  {
   "cell_type": "code",
   "execution_count": null,
   "id": "7df54308",
   "metadata": {},
   "outputs": [],
   "source": [
    "arr6=np.array([[[1,2],[3,4]],[[5,6],[7,8]],[[9,10],[11,12]]])\n",
    "step_slice3=arr6[0:3:1, 0:2:1, 0:2:1]\n",
    "print(\"3D Step Sliced array:\", step_slice3)"
   ]
  }
 ],
 "metadata": {
  "kernelspec": {
   "display_name": "venv",
   "language": "python",
   "name": "python3"
  },
  "language_info": {
   "codemirror_mode": {
    "name": "ipython",
    "version": 3
   },
   "file_extension": ".py",
   "mimetype": "text/x-python",
   "name": "python",
   "nbconvert_exporter": "python",
   "pygments_lexer": "ipython3",
   "version": "3.11.8"
  }
 },
 "nbformat": 4,
 "nbformat_minor": 5
}

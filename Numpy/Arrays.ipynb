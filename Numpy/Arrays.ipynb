{
 "cells": [
  {
   "cell_type": "code",
   "execution_count": null,
   "id": "e78707e5",
   "metadata": {},
   "outputs": [],
   "source": [
    "import numpy as np\n",
    "\n",
    "arr= np.array([1, 2, 3, 4, 5])\n",
    "print(\"Given array:\", arr)\n",
    "print(\"Number of dimensions:\", arr.ndim)\n",
    "print(\"Shape of the array:\", arr.shape)\n",
    "print(\"Size of the array:\", arr.size)\n",
    "print(\"Data type of the array:\", arr.dtype)\n",
    "print(\"Item size (bytes):\", arr.itemsize)\n",
    "print(\"Total bytes consumed by the array:\", arr.nbytes)"
   ]
  }
 ],
 "metadata": {
  "kernelspec": {
   "display_name": "venv",
   "language": "python",
   "name": "python3"
  },
  "language_info": {
   "name": "python",
   "version": "3.11.8"
  }
 },
 "nbformat": 4,
 "nbformat_minor": 5
}

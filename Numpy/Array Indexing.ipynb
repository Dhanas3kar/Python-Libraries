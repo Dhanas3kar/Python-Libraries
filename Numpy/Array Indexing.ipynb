{
 "cells": [
  {
   "cell_type": "code",
   "execution_count": null,
   "id": "7703a208",
   "metadata": {},
   "outputs": [],
   "source": [
    "import numpy as np\n",
    "\n",
    "arr=np.array([[[1, 2, 3], [4, 5,6], [7, 8, 9]]])\n",
    "print(\"Given array:\", arr)\n",
    "\n",
    "print(\"Positive Indexing:\")\n",
    "for i in range(len(arr)):\n",
    "    print(f\"Element at index {i} is {arr[i]}\")\n",
    "    \n",
    "print(\"Negative Indexing:\")\n",
    "for i in range(1, len(arr)+1):\n",
    "    print(f\"Element at index {-i} is {arr[-i]}\")\n",
    "    \n",
    "\n",
    "arr2=np.array([1,2,3,4,5,6,7,8,9])\n",
    "mask=arr2>3\n",
    "print(\"Boolean Indexing:\", arr2[mask])"
   ]
  }
 ],
 "metadata": {
  "kernelspec": {
   "display_name": "venv",
   "language": "python",
   "name": "python3"
  },
  "language_info": {
   "codemirror_mode": {
    "name": "ipython",
    "version": 3
   },
   "file_extension": ".py",
   "mimetype": "text/x-python",
   "name": "python",
   "nbconvert_exporter": "python",
   "pygments_lexer": "ipython3",
   "version": "3.11.8"
  }
 },
 "nbformat": 4,
 "nbformat_minor": 5
}

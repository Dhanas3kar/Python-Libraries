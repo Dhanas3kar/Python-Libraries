{
 "cells": [
  {
   "cell_type": "code",
   "execution_count": null,
   "id": "ffe83632",
   "metadata": {},
   "outputs": [],
   "source": [
    "import numpy as np\n",
    "\n",
    "\n",
    "arr= np.array([1,2,3,4,5,6,7,8,9])\n",
    "\n",
    "copied_array= arr.copy()\n",
    "\n",
    "copied_array[0]=100\n",
    "print(\"Original Array:\", arr)\n",
    "print(\"Copied Array:\", copied_array)\n",
    "\n"
   ]
  },
  {
   "cell_type": "code",
   "execution_count": null,
   "id": "4323cb8d",
   "metadata": {},
   "outputs": [],
   "source": [
    "#Shape Manipulation\n",
    "arr = np.array([[1, 2, 3], [4, 5, 6], [7, 8, 9]])\n",
    "arr.shape = (3, 3, 1)\n",
    "print(arr)"
   ]
  },
  {
   "cell_type": "code",
   "execution_count": null,
   "id": "9e0ea533",
   "metadata": {},
   "outputs": [],
   "source": [
    "### Understanding Dimensions\n",
    "arr_1d = np.array([1, 2, 3, 4, 5, 6])\n",
    "arr_2d = np.array([[1, 2, 3], [4, 5, 6]])\n",
    "arr_3d = np.array([[[1], [2]], [[3], [4]], [[5], [6]]])\n",
    "\n",
    "print(\"Shape of 1D array:\", arr_1d.shape)\n",
    "print(\"Shape of 2D array:\", arr_2d.shape)       \n",
    "print(\"Shape of 3D array:\", arr_3d.shape)"
   ]
  }
 ],
 "metadata": {
  "kernelspec": {
   "display_name": "venv",
   "language": "python",
   "name": "python3"
  },
  "language_info": {
   "codemirror_mode": {
    "name": "ipython",
    "version": 3
   },
   "file_extension": ".py",
   "mimetype": "text/x-python",
   "name": "python",
   "nbconvert_exporter": "python",
   "pygments_lexer": "ipython3",
   "version": "3.11.8"
  }
 },
 "nbformat": 4,
 "nbformat_minor": 5
}

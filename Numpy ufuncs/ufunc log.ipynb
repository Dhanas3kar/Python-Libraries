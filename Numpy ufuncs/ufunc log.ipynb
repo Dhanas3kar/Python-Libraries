{
 "cells": [
  {
   "cell_type": "code",
   "execution_count": 2,
   "id": "528b1e9b",
   "metadata": {},
   "outputs": [],
   "source": [
    "import numpy as np\n"
   ]
  },
  {
   "cell_type": "code",
   "execution_count": 3,
   "id": "9e38ee2c",
   "metadata": {},
   "outputs": [
    {
     "name": "stdout",
     "output_type": "stream",
     "text": [
      "log_values: [0. 1. 2. 3.]\n"
     ]
    }
   ],
   "source": [
    "log_array= np.array([1, np.e, np.e**2, np.e**3])\n",
    "log_values= np.log(log_array)\n",
    "print(\"log_values:\", log_values)"
   ]
  },
  {
   "cell_type": "code",
   "execution_count": 4,
   "id": "b48d37a1",
   "metadata": {},
   "outputs": [
    {
     "name": "stdout",
     "output_type": "stream",
     "text": [
      "exp_values: [ 2.71828183  7.3890561  20.08553692 54.59815003]\n"
     ]
    }
   ],
   "source": [
    "exp_array= np.array([1, 2, 3, 4])\n",
    "exp_values= np.exp(exp_array)\n",
    "print(\"exp_values:\", exp_values)"
   ]
  },
  {
   "cell_type": "code",
   "execution_count": 5,
   "id": "fb205d5a",
   "metadata": {},
   "outputs": [
    {
     "name": "stdout",
     "output_type": "stream",
     "text": [
      "log10_values: [0. 1. 2. 3.]\n"
     ]
    }
   ],
   "source": [
    "#base 10 logarithm\n",
    "log10_array= np.array([1, 10, 100, 1000])\n",
    "log10_values= np.log10(log10_array)\n",
    "print(\"log10_values:\", log10_values)\n"
   ]
  }
 ],
 "metadata": {
  "kernelspec": {
   "display_name": "venv",
   "language": "python",
   "name": "python3"
  },
  "language_info": {
   "codemirror_mode": {
    "name": "ipython",
    "version": 3
   },
   "file_extension": ".py",
   "mimetype": "text/x-python",
   "name": "python",
   "nbconvert_exporter": "python",
   "pygments_lexer": "ipython3",
   "version": "3.11.8"
  }
 },
 "nbformat": 4,
 "nbformat_minor": 5
}

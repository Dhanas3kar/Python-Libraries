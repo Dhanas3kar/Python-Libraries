{
 "cells": [
  {
   "cell_type": "code",
   "execution_count": 2,
   "id": "52313298",
   "metadata": {},
   "outputs": [],
   "source": [
    "import numpy as np \n"
   ]
  },
  {
   "cell_type": "code",
   "execution_count": null,
   "id": "603a754d",
   "metadata": {},
   "outputs": [
    {
     "name": "stdout",
     "output_type": "stream",
     "text": [
      "19.62086826044312\n"
     ]
    }
   ],
   "source": [
    "# Single output ufunc\n",
    "def add(a, b):\n",
    "    return a**b\n",
    "task=np.frompyfunc(add, 2, 1)\n",
    "print(add(2.4,3.4))\n"
   ]
  },
  {
   "cell_type": "code",
   "execution_count": 41,
   "id": "b94ecc63",
   "metadata": {},
   "outputs": [
    {
     "name": "stdout",
     "output_type": "stream",
     "text": [
      "(array([4, 4, 4], dtype=object), array([0, 0, 0], dtype=object))\n"
     ]
    }
   ],
   "source": [
    "#multiple output ufunc\n",
    "def add(a, b):\n",
    "    return a // b, a % b  # returns both quotient and remainder\n",
    "\n",
    "mytask = np.frompyfunc(add, 2, 2)\n",
    "print(mytask([4,8,12], [1,2,3],))\n"
   ]
  },
  {
   "cell_type": "code",
   "execution_count": 33,
   "id": "dc98f017",
   "metadata": {},
   "outputs": [
    {
     "name": "stdout",
     "output_type": "stream",
     "text": [
      "add is ufunc\n"
     ]
    }
   ],
   "source": [
    "if type(np.add) == np.ufunc:\n",
    "    print(\"add is ufunc\")\n",
    "else:\n",
    "    print(\"add is not ufunc\")"
   ]
  }
 ],
 "metadata": {
  "kernelspec": {
   "display_name": "venv",
   "language": "python",
   "name": "python3"
  },
  "language_info": {
   "codemirror_mode": {
    "name": "ipython",
    "version": 3
   },
   "file_extension": ".py",
   "mimetype": "text/x-python",
   "name": "python",
   "nbconvert_exporter": "python",
   "pygments_lexer": "ipython3",
   "version": "3.11.8"
  }
 },
 "nbformat": 4,
 "nbformat_minor": 5
}

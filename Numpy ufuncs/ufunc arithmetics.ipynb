{
 "cells": [
  {
   "cell_type": "code",
   "execution_count": 2,
   "id": "446043b9",
   "metadata": {},
   "outputs": [],
   "source": [
    "import numpy as np\n"
   ]
  },
  {
   "cell_type": "code",
   "execution_count": 12,
   "id": "5398459c",
   "metadata": {},
   "outputs": [
    {
     "name": "stdout",
     "output_type": "stream",
     "text": [
      "[ 5  9 13 17]\n",
      "[-1 -1 -1 -1]\n",
      "[ 6 20 42 72]\n",
      "[0.66666667 0.8        0.85714286 0.88888889]\n",
      "[        8      1024    279936 134217728]\n",
      "[0 0 0 0]\n",
      "\n",
      "Everything in one code:\n",
      " (array([5, 9, 13, 17], dtype=object), array([-1, -1, -1, -1], dtype=object), array([6, 20, 42, 72], dtype=object), array([0.6666666666666666, 0.8, 0.8571428571428571, 0.8888888888888888],\n",
      "      dtype=object), array([8, 1024, 279936, 134217728], dtype=object), array([0, 0, 0, 0], dtype=object))\n"
     ]
    }
   ],
   "source": [
    "#Simple Arithmetic Operations using ufuncs\n",
    "\n",
    "arr1=[2,4,6,8]\n",
    "arr2=[3,5,7,9]\n",
    "\n",
    "add= np.add(arr1,arr2)\n",
    "print(add)\n",
    "\n",
    "sub= np.subtract(arr1,arr2)\n",
    "print(sub)\n",
    "\n",
    "mul= np.multiply(arr1,arr2)\n",
    "print(mul)\n",
    "\n",
    "div= np.divide(arr1,arr2)\n",
    "print(div)\n",
    "\n",
    "exp = np.power(arr1, arr2)\n",
    "print(exp)\n",
    "\n",
    "floor_div = np.floor_divide(arr1, arr2)\n",
    "print(floor_div)\n",
    "\n",
    "#OR\n",
    "\n",
    "def task(a,b):\n",
    "    return a+b, a-b, a*b, a/b, a**b, a//b\n",
    "mytask= np.frompyfunc(task, 2, 6)\n",
    "print(\"\\nEverything in one code:\\n\",mytask(arr1, arr2))"
   ]
  },
  {
   "cell_type": "code",
   "execution_count": null,
   "id": "aa8aed25",
   "metadata": {},
   "outputs": [],
   "source": []
  }
 ],
 "metadata": {
  "kernelspec": {
   "display_name": "venv",
   "language": "python",
   "name": "python3"
  },
  "language_info": {
   "codemirror_mode": {
    "name": "ipython",
    "version": 3
   },
   "file_extension": ".py",
   "mimetype": "text/x-python",
   "name": "python",
   "nbconvert_exporter": "python",
   "pygments_lexer": "ipython3",
   "version": "3.11.8"
  }
 },
 "nbformat": 4,
 "nbformat_minor": 5
}

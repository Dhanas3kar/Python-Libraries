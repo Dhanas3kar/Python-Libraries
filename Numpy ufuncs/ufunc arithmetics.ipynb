{
 "cells": [
  {
   "cell_type": "code",
   "execution_count": 1,
   "id": "446043b9",
   "metadata": {},
   "outputs": [],
   "source": [
    "import numpy as np\n"
   ]
  },
  {
   "cell_type": "code",
   "execution_count": null,
   "id": "5398459c",
   "metadata": {},
   "outputs": [
    {
     "name": "stdout",
     "output_type": "stream",
     "text": [
      "[ 5  9 13 17]\n",
      "[-1 -1 -1 -1]\n",
      "[ 6 20 42 72]\n",
      "[0.66666667 0.8        0.85714286 0.88888889]\n",
      "[        8      1024    279936 134217728]\n",
      "[0 0 0 0]\n",
      "\n",
      "Everything in one code:\n",
      " (array([5, 9, 13, 17], dtype=object), array([-1, -1, -1, -1], dtype=object), array([6, 20, 42, 72], dtype=object), array([0.6666666666666666, 0.8, 0.8571428571428571, 0.8888888888888888],\n",
      "      dtype=object), array([8, 1024, 279936, 134217728], dtype=object), array([0, 0, 0, 0], dtype=object))\n"
     ]
    }
   ],
   "source": [
    "#Simple Arithmetic Operations using ufuncs\n",
    "\n",
    "arr1=[2,4,6,8]\n",
    "arr2=[3,5,7,9]\n",
    "\n",
    "add= np.add(arr1,arr2)\n",
    "print(add)\n",
    "\n",
    "sub= np.subtract(arr1,arr2)\n",
    "print(sub)\n",
    "\n",
    "mul= np.multiply(arr1,arr2)\n",
    "print(mul)\n",
    "\n",
    "div= np.divide(arr1,arr2)\n",
    "print(div)\n",
    "\n",
    "exp = np.power(arr1, arr2)\n",
    "print(exp)\n",
    "\n",
    "floor_div = np.floor_divide(arr1, arr2)\n",
    "print(floor_div)\n",
    "\n",
    "#or\n",
    "\n",
    "def task(a,b):\n",
    "    return a+b, a-b, a*b, a/b, a**b, a//b\n",
    "mytask= np.frompyfunc(task, 2, 6)\n",
    "print(\"\\nEverything in one code:\\n\",mytask(arr1, arr2))"
   ]
  },
  {
   "cell_type": "code",
   "execution_count": 3,
   "id": "aa8aed25",
   "metadata": {},
   "outputs": [
    {
     "name": "stdout",
     "output_type": "stream",
     "text": [
      "\n",
      "Sum along columns:\n",
      " [12 15 18]\n",
      "\n",
      "Sum along rows:\n",
      " [ 6 15 24]\n",
      "\n",
      "Cumulative sum of elements:\n",
      " [ 1  3  6 10 15 21 28 36 45]\n"
     ]
    }
   ],
   "source": [
    "#   Ufunc summation\n",
    "\n",
    "data_array= np.array([[1,2,3],[4,5,6],[7,8,9]])\n",
    "\n",
    "sum_array= np.sum(data_array, axis=0) \n",
    "print(\"\\nSum along columns:\\n\",sum_array)\n",
    "\n",
    "sum_array2= np.sum(data_array, axis=1)  \n",
    "print(\"\\nSum along rows:\\n\",sum_array2)\n",
    "\n",
    "new_array= np.cumsum(data_array)\n",
    "print(\"\\nCumulative sum of elements:\\n\",new_array)\n",
    "\n"
   ]
  },
  {
   "cell_type": "code",
   "execution_count": 9,
   "id": "3c3ce530",
   "metadata": {},
   "outputs": [
    {
     "name": "stdout",
     "output_type": "stream",
     "text": [
      "\n",
      "Product of all elements: 120\n",
      "\n",
      "Product along columns:\n",
      " [ 28  80 162]\n",
      "\n",
      "Cumulative product of elements:\n",
      " [  1   2   6  24 120]\n"
     ]
    }
   ],
   "source": [
    "num_array= np.array([1,2,3,4,5])\n",
    "\n",
    "result= np.prod(num_array)\n",
    "print(\"\\nProduct of all elements:\",result)\n",
    "\n",
    "axis_array= np.prod(data_array, axis=0)\n",
    "print(\"\\nProduct along columns:\\n\",axis_array)\n",
    "\n",
    "\n",
    "product_array= np.cumprod(num_array)\n",
    "print(\"\\nCumulative product of elements:\\n\",product_array)"
   ]
  }
 ],
 "metadata": {
  "kernelspec": {
   "display_name": "venv",
   "language": "python",
   "name": "python3"
  },
  "language_info": {
   "codemirror_mode": {
    "name": "ipython",
    "version": 3
   },
   "file_extension": ".py",
   "mimetype": "text/x-python",
   "name": "python",
   "nbconvert_exporter": "python",
   "pygments_lexer": "ipython3",
   "version": "3.11.8"
  }
 },
 "nbformat": 4,
 "nbformat_minor": 5
}

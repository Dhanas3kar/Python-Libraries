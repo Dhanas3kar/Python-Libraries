{
 "cells": [
  {
   "cell_type": "code",
   "execution_count": null,
   "id": "2b8c86e2",
   "metadata": {},
   "outputs": [],
   "source": [
    "import pandas as pd"
   ]
  },
  {
   "cell_type": "code",
   "execution_count": null,
   "id": "f7c37b70",
   "metadata": {},
   "outputs": [],
   "source": [
    "my_data={\n",
    "    'Name':['Alice','Bob','Claire'],\n",
    "    'Age':[25,30,27],\n",
    "    'Gender':['F','M','F'],\n",
    "    'City':['New York','Los Angeles','Chicago'],\n",
    "    'Course':['Physics','Chemistry','Biology']\n",
    "}\n",
    "\n",
    "rv= pd.DataFrame(my_data)\n",
    "\n",
    "\n",
    "data_list=[\n",
    "    ['Rocky',21,'M','New York','Maths'],\n",
    "    ['John',22,'M','Los Angeles','Biology'],\n",
    "    ['Emma',23,'F','Chicago','Chemistry']\n",
    "]\n",
    "columns = ['Name', 'Age', 'Gender', 'City', 'Course']\n",
    "rv1 = pd.DataFrame(data_list, columns=columns)\n",
    "\n",
    "\n",
    "\n",
    "rv_final=pd.concat([rv,rv1],ignore_index=True)\n",
    "print(rv_final)"
   ]
  },
  {
   "cell_type": "code",
   "execution_count": null,
   "id": "9d991996",
   "metadata": {},
   "outputs": [],
   "source": []
  }
 ],
 "metadata": {
  "kernelspec": {
   "display_name": "venv",
   "language": "python",
   "name": "python3"
  },
  "language_info": {
   "codemirror_mode": {
    "name": "ipython",
    "version": 3
   },
   "file_extension": ".py",
   "mimetype": "text/x-python",
   "name": "python",
   "nbconvert_exporter": "python",
   "pygments_lexer": "ipython3",
   "version": "3.11.8"
  }
 },
 "nbformat": 4,
 "nbformat_minor": 5
}

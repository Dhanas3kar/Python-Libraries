{
 "cells": [
  {
   "cell_type": "code",
   "execution_count": null,
   "id": "d66c6f94",
   "metadata": {},
   "outputs": [],
   "source": [
    "import pandas as pd\n",
    "import numpy as np\n"
   ]
  },
  {
   "cell_type": "code",
   "execution_count": null,
   "id": "ab9cda0b",
   "metadata": {},
   "outputs": [],
   "source": [
    "a=pd.Series([1,2,3,4,5])\n",
    "print(a)"
   ]
  },
  {
   "cell_type": "code",
   "execution_count": null,
   "id": "4779f42c",
   "metadata": {},
   "outputs": [],
   "source": [
    "my_data= [18,21,22,17,19,24]\n",
    "my_index= ['Alice','Bob','Claire','Dan','Emma','Frank']\n",
    "my_series= pd.Series(data=my_data,index=my_index)\n",
    "print(my_series)"
   ]
  },
  {
   "cell_type": "code",
   "execution_count": null,
   "id": "70350a4b",
   "metadata": {},
   "outputs": [],
   "source": [
    "#using dictionary to create series\n",
    "\n",
    "my_dict= {\n",
    "    'Alice': 18,\n",
    "    'Bob': 21,\n",
    "    'Claire': 22,\n",
    "    'Dan': 17,\n",
    "    'Emma': 19,\n",
    "    'Frank': 24\n",
    "}\n",
    "\n",
    "dict= pd.Series(my_dict)\n",
    "print(dict)"
   ]
  }
 ],
 "metadata": {
  "kernelspec": {
   "display_name": "venv",
   "language": "python",
   "name": "python3"
  },
  "language_info": {
   "codemirror_mode": {
    "name": "ipython",
    "version": 3
   },
   "file_extension": ".py",
   "mimetype": "text/x-python",
   "name": "python",
   "nbconvert_exporter": "python",
   "pygments_lexer": "ipython3",
   "version": "3.11.8"
  }
 },
 "nbformat": 4,
 "nbformat_minor": 5
}

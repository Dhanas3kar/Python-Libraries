{
 "cells": [
  {
   "cell_type": "code",
   "execution_count": 29,
   "id": "dc037e9a",
   "metadata": {},
   "outputs": [],
   "source": [
    "import pandas as pd\n",
    "import json as json"
   ]
  },
  {
   "cell_type": "code",
   "execution_count": 30,
   "id": "24d3a8ff",
   "metadata": {},
   "outputs": [
    {
     "name": "stdout",
     "output_type": "stream",
     "text": [
      "       City  Temperature  Humidity Condition\n",
      "0  New York           22        60     Sunny\n"
     ]
    }
   ],
   "source": [
    "df= pd.read_json('data.json')\n",
    "print(df)"
   ]
  },
  {
   "cell_type": "code",
   "execution_count": 31,
   "id": "1e592edd",
   "metadata": {},
   "outputs": [
    {
     "name": "stdout",
     "output_type": "stream",
     "text": [
      "JSON file created successfully.\n"
     ]
    }
   ],
   "source": [
    "data = {\n",
    "    'Employee_1': {\n",
    "        'Name': 'Alice',\n",
    "        'Age': 30,\n",
    "        'Country': 'USA',\n",
    "        'Salary': 70000,\n",
    "        'Experience': 5\n",
    "    },\n",
    "    'Employee_2': {\n",
    "        'Name': 'Bob',\n",
    "        'Age': 25,\n",
    "        'Country': 'USA',\n",
    "        'Salary': 60000,\n",
    "        'Experience': 3\n",
    "    }\n",
    "}\n",
    "\n",
    "# Convert the nested dictionary to a DataFrame\n",
    "df = pd.DataFrame(data).T  # .T transposes so each employee is a row\n",
    "\n",
    "df.to_json('data.json', orient='records', indent=4)\n",
    "\n",
    "print(\"JSON file created successfully.\")"
   ]
  }
 ],
 "metadata": {
  "kernelspec": {
   "display_name": "venv",
   "language": "python",
   "name": "python3"
  },
  "language_info": {
   "codemirror_mode": {
    "name": "ipython",
    "version": 3
   },
   "file_extension": ".py",
   "mimetype": "text/x-python",
   "name": "python",
   "nbconvert_exporter": "python",
   "pygments_lexer": "ipython3",
   "version": "3.11.8"
  }
 },
 "nbformat": 4,
 "nbformat_minor": 5
}

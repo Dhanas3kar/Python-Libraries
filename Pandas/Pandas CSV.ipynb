{
 "cells": [
  {
   "cell_type": "code",
   "execution_count": 9,
   "id": "781dacf5",
   "metadata": {},
   "outputs": [
    {
     "name": "stdout",
     "output_type": "stream",
     "text": [
      "      Name  Age  Gender          City  Salary  Experience   Department\n",
      "0    Alice   30  Female      New York   70000           5  Engineering\n",
      "1      Bob   25    Male   Los Angeles   60000           3    Marketing\n",
      "2  Charlie   35    Male       Chicago   80000          10      Finance\n",
      "3    David   28    Male       Houston   75000           4  Engineering\n",
      "4      Eva   32  Female       Phoenix   72000           6       Design\n",
      "5    Frank   29    Male  Philadelphia   68000           5    Marketing\n",
      "6    Grace   31  Female   San Antonio   71000           7      Finance\n",
      "7   Hannah   27  Female     San Diego   69000           4       Design\n",
      "8    Jones   29    Male        Dallas   73000           5  Engineering\n",
      "9    Harry   28    Male      San Jose   76000           6    Marketing\n"
     ]
    }
   ],
   "source": [
    "import pandas as pd\n",
    "\n",
    "df=pd.read_csv('data.csv')\n",
    "print(df)"
   ]
  },
  {
   "cell_type": "code",
   "execution_count": 29,
   "id": "9a630fe8",
   "metadata": {},
   "outputs": [
    {
     "name": "stdout",
     "output_type": "stream",
     "text": [
      "      Name  Age  Gender         City  Salary  Experience\n",
      "0    Alice   30  Female     New York   70000           5\n",
      "1      Bob   25    Male  Los Angeles   60000           3\n",
      "2  Charlie   35    Male      Chicago   80000          10\n",
      "3    David   28    Male      Houston   75000           4\n",
      "4      Eva   32  Female      Phoenix   72000           6\n",
      "     Name  Age  Gender          City  Salary  Experience\n",
      "5   Frank   29    Male  Philadelphia   68000           5\n",
      "6   Grace   31  Female   San Antonio   71000           7\n",
      "7  Hannah   27  Female     San Diego   69000           4\n",
      "8   Jones   29    Male        Dallas   73000           5\n",
      "9   Harry   28    Male      San Jose   76000           6\n",
      "Age              29.4\n",
      "Salary        71400.0\n",
      "Experience        5.5\n",
      "dtype: float64\n"
     ]
    }
   ],
   "source": [
    "print(df.head())\n",
    "print(df.tail())\n",
    "\n",
    "# Only calculate mean for numeric columns\n",
    "print(df.mean(numeric_only=True))\n",
    "\n",
    "\n"
   ]
  }
 ],
 "metadata": {
  "kernelspec": {
   "display_name": "venv",
   "language": "python",
   "name": "python3"
  },
  "language_info": {
   "codemirror_mode": {
    "name": "ipython",
    "version": 3
   },
   "file_extension": ".py",
   "mimetype": "text/x-python",
   "name": "python",
   "nbconvert_exporter": "python",
   "pygments_lexer": "ipython3",
   "version": "3.11.8"
  }
 },
 "nbformat": 4,
 "nbformat_minor": 5
}
